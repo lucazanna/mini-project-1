{
 "cells": [
  {
   "cell_type": "markdown",
   "metadata": {},
   "source": [
    "# Palindrome Permutation\n",
    "\n",
    "Given a string, write a function to check if it is a permutation of a palindrome. A palindrome is a word or phrase that is the same forwards and backwards. A permutation is a rearrangement of letters. The palindrome does not need to be limited to just dictionary words.\n",
    "\n",
    "EXAMPLE :\n",
    "\n",
    "Input: Tact Coa\n",
    "\n",
    "Output: True (permutations: ‘taco cat’, ‘atco cta’, etc.)\n",
    "\n"
   ]
  },
  {
   "cell_type": "code",
   "execution_count": 23,
   "metadata": {},
   "outputs": [],
   "source": [
    "    input_text = \"Tact Coa\"\n",
    "    import re"
   ]
  },
  {
   "cell_type": "code",
   "execution_count": 27,
   "metadata": {},
   "outputs": [],
   "source": [
    "def permutation(input_text):\n",
    "\n",
    "\n",
    "    #remove spaces and lowercase\n",
    "    input_text = re.sub(' ', '', input_text).lower()\n",
    "\n",
    "    #find unique characters\n",
    "    unique_characters = set([letter for letter in input_text])\n",
    "\n",
    "    #odd characters \n",
    "    odd_characters = [input_text.count(character) % 2 != 0 for character in unique_characters]\n",
    "\n",
    "\n",
    "    #is palindrome \n",
    "    is_palindrome_permutation = sum(odd_characters) <=1\n",
    "\n",
    "    #print(f\"Palindrome Permutation (if max one character appears an odd number of times): {is_palindrome_permutation}\")\n"
   ]
  },
  {
   "cell_type": "code",
   "execution_count": 28,
   "metadata": {},
   "outputs": [
    {
     "name": "stdout",
     "output_type": "stream",
     "text": [
      "1.89 µs ± 108 ns per loop (mean ± std. dev. of 7 runs, 1000000 loops each)\n"
     ]
    }
   ],
   "source": [
    "%timeit permutation(\"Tact Coa\")"
   ]
  },
  {
   "cell_type": "code",
   "execution_count": 29,
   "metadata": {},
   "outputs": [],
   "source": [
    "def permutation_2(input_text):\n",
    "\n",
    "    boolean_dict = {}\n",
    "    for letter in input_text.lower():\n",
    "        if letter == \" \":\n",
    "            continue\n",
    "        if boolean_dict.get(letter, 0) == 0:\n",
    "            boolean_dict[letter] =1\n",
    "        else:\n",
    "            boolean_dict[letter] =0\n",
    "            \n",
    "    is_palindrome_permutation = sum(boolean_dict.values()) <= 1\n",
    "    \n",
    "    #print(f\"Palindrome Permutation (if max one character appears an odd number of times): {is_palindrome_permutation}\")"
   ]
  },
  {
   "cell_type": "code",
   "execution_count": 30,
   "metadata": {},
   "outputs": [],
   "source": [
    "permutation_2(\"Tact Coa\")"
   ]
  },
  {
   "cell_type": "code",
   "execution_count": 31,
   "metadata": {},
   "outputs": [
    {
     "name": "stdout",
     "output_type": "stream",
     "text": [
      "985 ns ± 68.2 ns per loop (mean ± std. dev. of 7 runs, 1000000 loops each)\n"
     ]
    }
   ],
   "source": [
    "%timeit permutation_2(\"Tact Coa\")"
   ]
  },
  {
   "cell_type": "code",
   "execution_count": 65,
   "metadata": {},
   "outputs": [],
   "source": [
    "@jit(nopython=True)\n",
    "def monte_carlo_pi(nsamples):\n",
    "    acc = 0\n",
    "    for i in range(nsamples):\n",
    "        x = random.random()\n",
    "        y = random.random()\n",
    "        if (x ** 2 + y ** 2) < 1.0:\n",
    "            acc += 1\n",
    "    return 4.0 * acc / nsamples"
   ]
  },
  {
   "cell_type": "code",
   "execution_count": 61,
   "metadata": {},
   "outputs": [],
   "source": [
    "from numba import jit\n",
    "import random\n",
    "import time\n",
    "\n"
   ]
  },
  {
   "cell_type": "code",
   "execution_count": 64,
   "metadata": {},
   "outputs": [
    {
     "ename": "SyntaxError",
     "evalue": "unexpected EOF while parsing (<ipython-input-64-347344848ae1>, line 1)",
     "output_type": "error",
     "traceback": [
      "\u001b[0;36m  File \u001b[0;32m\"<ipython-input-64-347344848ae1>\"\u001b[0;36m, line \u001b[0;32m1\u001b[0m\n\u001b[0;31m    @jit(nopython=True)\u001b[0m\n\u001b[0m                       ^\u001b[0m\n\u001b[0;31mSyntaxError\u001b[0m\u001b[0;31m:\u001b[0m unexpected EOF while parsing\n"
     ]
    }
   ],
   "source": []
  },
  {
   "cell_type": "code",
   "execution_count": 63,
   "metadata": {},
   "outputs": [
    {
     "name": "stdout",
     "output_type": "stream",
     "text": [
      "25 µs ± 1.62 µs per loop (mean ± std. dev. of 7 runs, 10000 loops each)\n"
     ]
    }
   ],
   "source": [
    "%timeit monte_carlo_pi(100)"
   ]
  },
  {
   "cell_type": "code",
   "execution_count": 66,
   "metadata": {},
   "outputs": [
    {
     "name": "stdout",
     "output_type": "stream",
     "text": [
      "The slowest run took 15.22 times longer than the fastest. This could mean that an intermediate result is being cached.\n",
      "2.89 µs ± 4.42 µs per loop (mean ± std. dev. of 7 runs, 1 loop each)\n"
     ]
    }
   ],
   "source": [
    "%timeit monte_carlo_pi(100)"
   ]
  },
  {
   "cell_type": "code",
   "execution_count": 77,
   "metadata": {},
   "outputs": [],
   "source": [
    "@jit(nopython=True)\n",
    "def test_for():\n",
    "    l = []\n",
    "    for a in range(10000):\n",
    "        l.append(a+1)\n",
    "    return l\n",
    "    "
   ]
  },
  {
   "cell_type": "code",
   "execution_count": 74,
   "metadata": {},
   "outputs": [
    {
     "name": "stdout",
     "output_type": "stream",
     "text": [
      "586 µs ± 11.7 µs per loop (mean ± std. dev. of 7 runs, 1000 loops each)\n"
     ]
    }
   ],
   "source": [
    "%timeit test_for()"
   ]
  },
  {
   "cell_type": "code",
   "execution_count": 79,
   "metadata": {},
   "outputs": [
    {
     "name": "stdout",
     "output_type": "stream",
     "text": [
      "277 µs ± 11 µs per loop (mean ± std. dev. of 7 runs, 1000 loops each)\n"
     ]
    }
   ],
   "source": [
    "%timeit test_for()"
   ]
  },
  {
   "cell_type": "code",
   "execution_count": 78,
   "metadata": {},
   "outputs": [],
   "source": [
    "@jit(nopython=True)\n",
    "def test_comprehesion_list():\n",
    "    return [a+1 for a in range(10000)]"
   ]
  },
  {
   "cell_type": "code",
   "execution_count": 76,
   "metadata": {},
   "outputs": [
    {
     "name": "stdout",
     "output_type": "stream",
     "text": [
      "387 µs ± 14.8 µs per loop (mean ± std. dev. of 7 runs, 1000 loops each)\n"
     ]
    }
   ],
   "source": [
    "%timeit test_comprehesion_list()"
   ]
  },
  {
   "cell_type": "code",
   "execution_count": 80,
   "metadata": {},
   "outputs": [
    {
     "name": "stdout",
     "output_type": "stream",
     "text": [
      "290 µs ± 32.3 µs per loop (mean ± std. dev. of 7 runs, 1000 loops each)\n"
     ]
    }
   ],
   "source": [
    "%timeit test_comprehesion_list()"
   ]
  },
  {
   "cell_type": "code",
   "execution_count": 82,
   "metadata": {},
   "outputs": [
    {
     "name": "stdout",
     "output_type": "stream",
     "text": [
      "unique characters are: {'o', 'a', 't', 'c'}\n",
      "characters that appear an odd number of times: [True, False, False, False]\n",
      "Palindrome Permutation (if max one character appears an odd number of times): True\n",
      " "
     ]
    }
   ],
   "source": [
    "%prun permutation(\"Tact Coa\")"
   ]
  },
  {
   "cell_type": "code",
   "execution_count": 83,
   "metadata": {},
   "outputs": [],
   "source": [
    "%load_ext line_profiler"
   ]
  },
  {
   "cell_type": "code",
   "execution_count": 84,
   "metadata": {},
   "outputs": [
    {
     "name": "stdout",
     "output_type": "stream",
     "text": [
      "unique characters are: {'o', 'a', 't', 'c'}\n",
      "characters that appear an odd number of times: [True, False, False, False]\n",
      "Palindrome Permutation (if max one character appears an odd number of times): True\n"
     ]
    }
   ],
   "source": [
    "%lprun -f permutation permutation('Tact Coa')"
   ]
  },
  {
   "cell_type": "code",
   "execution_count": 2,
   "metadata": {},
   "outputs": [],
   "source": [
    "%load_ext memory_profiler"
   ]
  },
  {
   "cell_type": "code",
   "execution_count": 86,
   "metadata": {},
   "outputs": [
    {
     "name": "stdout",
     "output_type": "stream",
     "text": [
      "unique characters are: {'o', 'a', 't', 'c'}\n",
      "characters that appear an odd number of times: [True, False, False, False]\n",
      "Palindrome Permutation (if max one character appears an odd number of times): True\n",
      "unique characters are: {'o', 'a', 't', 'c'}\n",
      "characters that appear an odd number of times: [True, False, False, False]\n",
      "Palindrome Permutation (if max one character appears an odd number of times): True\n",
      "unique characters are: {'o', 'a', 't', 'c'}\n",
      "characters that appear an odd number of times: [True, False, False, False]\n",
      "Palindrome Permutation (if max one character appears an odd number of times): True\n",
      "unique characters are: {'o', 'a', 't', 'c'}\n",
      "characters that appear an odd number of times: [True, False, False, False]\n",
      "Palindrome Permutation (if max one character appears an odd number of times): True\n",
      "unique characters are: {'o', 'a', 't', 'c'}\n",
      "characters that appear an odd number of times: [True, False, False, False]\n",
      "Palindrome Permutation (if max one character appears an odd number of times): True\n",
      "unique characters are: {'o', 'a', 't', 'c'}\n",
      "characters that appear an odd number of times: [True, False, False, False]\n",
      "Palindrome Permutation (if max one character appears an odd number of times): True\n",
      "unique characters are: {'o', 'a', 't', 'c'}\n",
      "characters that appear an odd number of times: [True, False, False, False]\n",
      "Palindrome Permutation (if max one character appears an odd number of times): True\n",
      "peak memory: 141.47 MiB, increment: -2.77 MiB\n"
     ]
    }
   ],
   "source": [
    "%memit permutation('Tact Coa')"
   ]
  },
  {
   "cell_type": "code",
   "execution_count": 91,
   "metadata": {},
   "outputs": [
    {
     "name": "stdout",
     "output_type": "stream",
     "text": [
      "Overwriting mprun_demo.py\n"
     ]
    }
   ],
   "source": [
    "%%file mprun_demo.py\n",
    "def permutation(input_text):\n",
    "    import re\n",
    "    #remove spaces and lowercase\n",
    "    input_text = re.sub(' ', '', input_text).lower()\n",
    "\n",
    "    #find unique characters\n",
    "    unique_characters = set([letter for letter in input_text])\n",
    "\n",
    "    #odd characters \n",
    "    odd_characters = [input_text.count(character) % 2 != 0 for character in unique_characters]\n",
    "\n",
    "\n",
    "    #is palindrome \n",
    "    is_palindrome_permutation = sum(odd_characters) <=1\n",
    "\n",
    "    print(f\"unique characters are: {unique_characters}\")\n",
    "    print(f\"characters that appear an odd number of times: {odd_characters}\")\n",
    "    print(f\"Palindrome Permutation (if max one character appears an odd number of times): {is_palindrome_permutation}\")"
   ]
  },
  {
   "cell_type": "code",
   "execution_count": 3,
   "metadata": {},
   "outputs": [
    {
     "name": "stdout",
     "output_type": "stream",
     "text": [
      "unique characters are: {'t', 'c', 'a', 'o'}\n",
      "characters that appear an odd number of times: [False, False, False, True]\n",
      "Palindrome Permutation (if max one character appears an odd number of times): True\n",
      "\n"
     ]
    }
   ],
   "source": [
    "from mprun_demo import permutation\n",
    "%mprun -f permutation permutation(\"Tact Coa\")"
   ]
  },
  {
   "cell_type": "code",
   "execution_count": 94,
   "metadata": {},
   "outputs": [],
   "source": [
    "%load_ext autoreload"
   ]
  },
  {
   "cell_type": "code",
   "execution_count": 95,
   "metadata": {},
   "outputs": [],
   "source": [
    "%autoreload 2"
   ]
  },
  {
   "cell_type": "code",
   "execution_count": null,
   "metadata": {},
   "outputs": [],
   "source": []
  }
 ],
 "metadata": {
  "kernelspec": {
   "display_name": "Python 3.8.2 64-bit",
   "language": "python",
   "name": "python38264bit9f8b210f4ec74f36999b8d6f71846322"
  },
  "language_info": {
   "codemirror_mode": {
    "name": "ipython",
    "version": 3
   },
   "file_extension": ".py",
   "mimetype": "text/x-python",
   "name": "python",
   "nbconvert_exporter": "python",
   "pygments_lexer": "ipython3",
   "version": "3.8.2"
  }
 },
 "nbformat": 4,
 "nbformat_minor": 4
}
