{
 "cells": [
  {
   "cell_type": "markdown",
   "metadata": {},
   "source": [
    "# Palindrome Permutation\n",
    "\n",
    "Given a string, write a function to check if it is a permutation of a palindrome. A palindrome is a word or phrase that is the same forwards and backwards. A permutation is a rearrangement of letters. The palindrome does not need to be limited to just dictionary words.\n",
    "\n",
    "EXAMPLE :\n",
    "\n",
    "Input: Tact Coa\n",
    "\n",
    "Output: True (permutations: ‘taco cat’, ‘atco cta’, etc.)\n",
    "\n"
   ]
  },
  {
   "cell_type": "code",
   "execution_count": 2,
   "metadata": {},
   "outputs": [],
   "source": [
    "import re"
   ]
  },
  {
   "cell_type": "code",
   "execution_count": 54,
   "metadata": {},
   "outputs": [
    {
     "name": "stdout",
     "output_type": "stream",
     "text": [
      "unique characters are: {'o', 'a', 't', 'c'}\n",
      "characters appear an odd number of times: [True, False, False, False]\n",
      "Palindrome Permutation (if at most one character appears an odd number of times): True\n"
     ]
    }
   ],
   "source": [
    "input_text = \"Tact Coa\"\n",
    "\n",
    "#remove spaces and lowercase\n",
    "input_text = re.sub(' ', '', input_text).lower()\n",
    "\n",
    "#find unique characters\n",
    "unique_characters = set([letter for letter in input_text])\n",
    "\n",
    "#odd characters \n",
    "odd_characters = [len(re.findall(f\"[{character}]\", input_text)) % 2 != 0 for character in unique_characters]\n",
    "\n",
    "#is palindrome \n",
    "is_palindrome_permutation = sum(odd_characters) <=1\n",
    "\n",
    "print(f\"unique characters are: {unique_characters}\")\n",
    "print(f\"characters appear an odd number of times: {odd_characters}\")\n",
    "print(f\"Palindrome Permutation (if at most one character appears an odd number of times): {is_palindrome_permutation}\")\n"
   ]
  },
  {
   "cell_type": "code",
   "execution_count": null,
   "metadata": {},
   "outputs": [],
   "source": []
  },
  {
   "cell_type": "code",
   "execution_count": null,
   "metadata": {},
   "outputs": [],
   "source": []
  }
 ],
 "metadata": {
  "kernelspec": {
   "display_name": "Python 3.8.2 64-bit",
   "language": "python",
   "name": "python38264bit9f8b210f4ec74f36999b8d6f71846322"
  },
  "language_info": {
   "codemirror_mode": {
    "name": "ipython",
    "version": 3
   },
   "file_extension": ".py",
   "mimetype": "text/x-python",
   "name": "python",
   "nbconvert_exporter": "python",
   "pygments_lexer": "ipython3",
   "version": "3.8.2"
  }
 },
 "nbformat": 4,
 "nbformat_minor": 4
}
