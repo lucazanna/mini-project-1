{
 "cells": [
  {
   "cell_type": "markdown",
   "metadata": {},
   "source": [
    "# MASTERMIND"
   ]
  },
  {
   "cell_type": "code",
   "execution_count": 2,
   "metadata": {},
   "outputs": [],
   "source": [
    "# imports\n",
    "import random\n",
    "import re"
   ]
  },
  {
   "cell_type": "code",
   "execution_count": 25,
   "metadata": {},
   "outputs": [
    {
     "name": "stdout",
     "output_type": "stream",
     "text": [
      "['Blue', 'Orange', 'Green', 'Purple', 'Yellow', 'White']\n",
      "BOGPYW\n"
     ]
    }
   ],
   "source": [
    "# global variables\n",
    "colors = [\"Blue\", \"Orange\", \"Green\", \"Purple\", \"Yellow\", \"White\"]\n",
    "print(colors)\n",
    "\n",
    "colors_as_string = \"\".join([color[0] for color in colors])\n",
    "print(colors_as_string)\n",
    "numberOfColors = 6\n",
    "numberOfHoles = 4\n",
    "numberOfRounds = 6"
   ]
  },
  {
   "cell_type": "code",
   "execution_count": 13,
   "metadata": {},
   "outputs": [],
   "source": [
    "# create random color sequence\n",
    "def create_secret_sequence():\n",
    "    secret_sequence = [colors[randomNumber] for randomNumber in random.choices(range(len(colors)),k=numberOfHoles)]\n",
    "    secret_sequence_as_string = \"\".join([color[0] for color in secret_sequence])\n",
    "    return secret_sequence_as_string"
   ]
  },
  {
   "cell_type": "code",
   "execution_count": 20,
   "metadata": {},
   "outputs": [],
   "source": [
    "def userInput (round):\n",
    "    while True:\n",
    "        guessed_sequence = str(input(f\"\\nROUND {round}. Make a guess: \")).upper()\n",
    "    \n",
    "        # check1 verifies the number of letters entered\n",
    "        check1 = len(guessed_sequence) != numberOfHoles\n",
    "        #check2 verifies which letters are entered\n",
    "        check2 = not all([re.search(\"[\"+colors_as_string+\"]\",letter) for letter in guessed_sequence])\n",
    "\n",
    "        if check1:\n",
    "            print(f\"please enter {numberOfHoles} characters\")\n",
    "        if check2:\n",
    "            print(f\"please only enter the following letters: \"+ colors_as_string)\n",
    "        if not check1 and not check2:\n",
    "            break\n",
    "    return guessed_sequence"
   ]
  },
  {
   "cell_type": "code",
   "execution_count": 28,
   "metadata": {},
   "outputs": [],
   "source": [
    "def checkGuess(guessed_sequence, secret_sequence_as_string, colors_as_string): \n",
    "    \n",
    "    # count the colors in the right position\n",
    "    rightColorRightPosition = sum([1 for index, value in enumerate(guessed_sequence) if \n",
    "                                   guessed_sequence[index] == secret_sequence_as_string[index]])\n",
    "    print(f\"{rightColorRightPosition} right color/s at the right position\")\n",
    "\n",
    "    \n",
    "    #count the total right colors\n",
    "    rightColorTotal = sum([min( guessed_sequence.count(letter),\n",
    "                               secret_sequence_as_string.count(letter))  \n",
    "                           for letter in colors_as_string])\n",
    "    \n",
    "    # right colors at the wrong position\n",
    "    rightColorAtWrongPosition = rightColorTotal - rightColorRightPosition\n",
    "    print(f\"{rightColorAtWrongPosition} right color/s at the wrong position\")\n",
    "\n",
    "    resultat = False\n",
    "    \n",
    "    if rightColorRightPosition == numberOfHoles:\n",
    "        print(\"You win!\")\n",
    "        resultat = True\n",
    "        \n",
    "    return resultat"
   ]
  },
  {
   "cell_type": "code",
   "execution_count": 29,
   "metadata": {},
   "outputs": [],
   "source": [
    "def main():\n",
    "    rounds = 1\n",
    "    secret_sequence = create_secret_sequence()\n",
    "    guessed_sequence = \"\"\n",
    "    print(\"WELCOME TO MASTERMIND!\")\n",
    "    print(f\"Make a guess. \\nUse {numberOfHoles} letters to type your guess (example: WWOG) \\nThe four letters available are \"\n",
    "          +colors_as_string)\n",
    "    while rounds <= numberOfRounds and guessed_sequence != 'quit':\n",
    "        guessed_sequence = userInput(rounds)\n",
    "        playerWins = checkGuess(guessed_sequence, secret_sequence, colors_as_string)\n",
    "        if playerWins:\n",
    "            break\n",
    "        if rounds == numberOfRounds:\n",
    "            print(f\"the secret sequence was {secret_sequence}\")\n",
    "        rounds +=1"
   ]
  },
  {
   "cell_type": "code",
   "execution_count": 31,
   "metadata": {},
   "outputs": [
    {
     "name": "stdout",
     "output_type": "stream",
     "text": [
      "WELCOME TO MASTERMIND!\n",
      "Make a guess. \n",
      "Use 4 letters to type your guess (example: WWOG) \n",
      "The four letters available are BOGPYW\n",
      "\n",
      "ROUND 1. Make a guess: ggob\n",
      "1 right color/s at the right position\n",
      "0 right color/s at the wrong position\n",
      "\n",
      "ROUND 2. Make a guess: ggow\n",
      "0 right color/s at the right position\n",
      "0 right color/s at the wrong position\n",
      "\n",
      "ROUND 3. Make a guess: bpyb\n",
      "2 right color/s at the right position\n",
      "1 right color/s at the wrong position\n",
      "\n",
      "ROUND 4. Make a guess: bppb\n",
      "3 right color/s at the right position\n",
      "0 right color/s at the wrong position\n",
      "\n",
      "ROUND 5. Make a guess: bbpb\n",
      "2 right color/s at the right position\n",
      "0 right color/s at the wrong position\n",
      "\n",
      "ROUND 6. Make a guess: pbpb\n",
      "2 right color/s at the right position\n",
      "1 right color/s at the wrong position\n",
      "the secret sequence was YPPB\n"
     ]
    }
   ],
   "source": [
    "main()"
   ]
  },
  {
   "cell_type": "code",
   "execution_count": null,
   "metadata": {},
   "outputs": [],
   "source": []
  }
 ],
 "metadata": {
  "kernelspec": {
   "display_name": "Python 3.8.2 64-bit",
   "language": "python",
   "name": "python38264bit9f8b210f4ec74f36999b8d6f71846322"
  },
  "language_info": {
   "codemirror_mode": {
    "name": "ipython",
    "version": 3
   },
   "file_extension": ".py",
   "mimetype": "text/x-python",
   "name": "python",
   "nbconvert_exporter": "python",
   "pygments_lexer": "ipython3",
   "version": "3.8.2"
  }
 },
 "nbformat": 4,
 "nbformat_minor": 4
}
