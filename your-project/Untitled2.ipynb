{
 "cells": [
  {
   "cell_type": "code",
   "execution_count": 5,
   "metadata": {},
   "outputs": [],
   "source": [
    "from random import choice\n",
    "#Choose who starts\n",
    "def starter():\n",
    "    players = ['human', 'computer']\n",
    "    player1 = choice(players)\n",
    "    player2 = ''\n",
    "    if player1 == 'computer':\n",
    "        player2 = 'human'\n",
    "    else: \n",
    "        player2 = 'computer'    \n",
    "    print('First player will be', player1)\n",
    "    print('Other player will be', player2)\n",
    "    return player1, player2\n"
   ]
  },
  {
   "cell_type": "code",
   "execution_count": 8,
   "metadata": {},
   "outputs": [
    {
     "name": "stdout",
     "output_type": "stream",
     "text": [
      "First player will be human\n",
      "Other player will be computer\n"
     ]
    }
   ],
   "source": [
    "player1, player2 = starter()"
   ]
  },
  {
   "cell_type": "code",
   "execution_count": 9,
   "metadata": {},
   "outputs": [],
   "source": [
    "#First player chooses his/her symbol\n",
    "def symbol_choice():\n",
    "    symbols = ['X', 'O']\n",
    "    player1_symbol = choice(symbols)\n",
    "    player2_symbol = ''\n",
    "    if player1_symbol == 'X':\n",
    "        player2_symbol = 'O'\n",
    "    else:\n",
    "        player2_symbol = 'X'    \n",
    "    print(player1, \"'s symbol will be: \", player1_symbol)\n",
    "    print(player2, \"'s symbol will be: \", player2_symbol)"
   ]
  },
  {
   "cell_type": "code",
   "execution_count": 10,
   "metadata": {},
   "outputs": [
    {
     "name": "stdout",
     "output_type": "stream",
     "text": [
      "human 's symbol will be:  O\n",
      "computer 's symbol will be:  X\n"
     ]
    }
   ],
   "source": [
    "symbol_choice()"
   ]
  },
  {
   "cell_type": "code",
   "execution_count": null,
   "metadata": {},
   "outputs": [],
   "source": []
  }
 ],
 "metadata": {
  "kernelspec": {
   "display_name": "Python 3.8.2 64-bit",
   "language": "python",
   "name": "python38264bit9f8b210f4ec74f36999b8d6f71846322"
  },
  "language_info": {
   "codemirror_mode": {
    "name": "ipython",
    "version": 3
   },
   "file_extension": ".py",
   "mimetype": "text/x-python",
   "name": "python",
   "nbconvert_exporter": "python",
   "pygments_lexer": "ipython3",
   "version": "3.8.2"
  }
 },
 "nbformat": 4,
 "nbformat_minor": 4
}
