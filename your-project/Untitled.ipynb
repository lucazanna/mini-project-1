{
 "cells": [
  {
   "cell_type": "markdown",
   "metadata": {},
   "source": [
    "# MASTERMIND"
   ]
  },
  {
   "cell_type": "code",
   "execution_count": 136,
   "metadata": {},
   "outputs": [],
   "source": [
    "# imports\n",
    "import random\n",
    "import re\n",
    "from collections import Counter"
   ]
  },
  {
   "cell_type": "code",
   "execution_count": 122,
   "metadata": {},
   "outputs": [
    {
     "name": "stdout",
     "output_type": "stream",
     "text": [
      "['Blue', 'Orange', 'Green', 'Purple', 'Yellow', 'White']\n",
      "['B', 'O', 'G', 'P', 'Y', 'W']\n",
      "BOGPYW\n"
     ]
    }
   ],
   "source": [
    "# global variables\n",
    "colors = [\"Blue\", \"Orange\", \"Green\", \"Purple\", \"Yellow\", \"White\",\"Silver\",\"Violet\"]\n",
    "del colors[6:8]\n",
    "print(colors)\n",
    "\n",
    "colorsInLetters = [color[0] for color in colors]\n",
    "colorsInLettersAsString = \"\".join(colorsInLetters)\n",
    "print(colorsInLetters)\n",
    "print(colorsInLettersAsString)\n",
    "numberOfColors = 6\n",
    "numberOfHoles = 4\n",
    "numberOfRounds = 6"
   ]
  },
  {
   "cell_type": "code",
   "execution_count": 89,
   "metadata": {},
   "outputs": [
    {
     "name": "stdout",
     "output_type": "stream",
     "text": [
      "['Yellow', 'Orange', 'Purple', 'Yellow']\n",
      "YOPY\n"
     ]
    }
   ],
   "source": [
    "# create random color sequence\n",
    "colorSequence = [colors[randomNumber] for randomNumber in random.choices(range(len(colors)),k=numberOfHoles)]\n",
    "print(colorSequence)\n",
    "colorsSequenceInLettersAsString = \"\".join([color[0] for color in colorSequence])\n",
    "print(colorsSequenceInLettersAsString)"
   ]
  },
  {
   "cell_type": "code",
   "execution_count": 183,
   "metadata": {},
   "outputs": [],
   "source": [
    "def userInput (round):\n",
    "    while True:\n",
    "    \n",
    "        sequenceGuessed = str(input(f\"\\n ROUND {round}\\nMake a guess. \\nUse 4 letters to type your guess (example: WWOG) \\nThe four letters available are \"+\"-\".join(colorsInLetters)+\"\\n\")).upper()\n",
    "\n",
    "        check1 = len(sequenceGuessed) != numberOfHoles\n",
    "        check2 = not all([re.search(\"[\"+colorsInLettersAsString+\"]\",letter) for letter in sequenceGuessed])\n",
    "\n",
    "        if check1:\n",
    "            print(f\"please enter {numberOfHoles} characters\")\n",
    "        if check2:\n",
    "            print(f\"please only enter the following letters: \"+ \"-\".join(colorsInLetters))\n",
    "        if not check1 and not check2:\n",
    "            break\n",
    "    return sequenceGuessed"
   ]
  },
  {
   "cell_type": "code",
   "execution_count": 137,
   "metadata": {},
   "outputs": [
    {
     "name": "stdout",
     "output_type": "stream",
     "text": [
      "\n",
      "Make a guess. \n",
      "Use 4 letters to type your guess (example: WWOG) \n",
      "The four letters available are B-O-G-P-Y-W\n",
      "oooo\n",
      "OOOO\n"
     ]
    }
   ],
   "source": [
    "sequenceGuessed = userInput()\n",
    "print(sequenceGuessed)"
   ]
  },
  {
   "cell_type": "code",
   "execution_count": 178,
   "metadata": {},
   "outputs": [],
   "source": [
    "def checkGuess(sequenceGuessed, colorsSequenceInLettersAsString, colorsInLettersAsString): \n",
    "    \n",
    "    # count the colors in the right position\n",
    "    rightColorRightPosition = sum([1 for index, value in enumerate(sequenceGuessed) if sequenceGuessed[index] == colorsSequenceInLettersAsString[index]])\n",
    "    print(f\"{rightColorRightPosition} right color/s at the right position\")\n",
    "\n",
    "    # guessed colors count\n",
    "    setOfGuessedColors = {value:index for value, index in zip(Counter(sequenceGuessed).keys(), Counter(sequenceGuessed).values())}\n",
    "    #print(setOfGuessedColors)\n",
    "\n",
    "    # secret colors count\n",
    "    setOfSecretColors = {value:index for value, index in zip(Counter(colorsSequenceInLettersAsString).keys(), Counter(colorsSequenceInLettersAsString).values())}\n",
    "    #print(setOfSecretColors)\n",
    "    \n",
    "    # count the right colors \n",
    "    rightColorTotal = sum([min(setOfGuessedColors.get(letter, 0),setOfSecretColors.get(letter, 0))  for letter in colorsInLettersAsString])\n",
    "    #print(rightColorTotal)\n",
    "    \n",
    "    # right colors at the wrong position\n",
    "    rightColorAtWrongPosition = rightColorTotal - rightColorRightPosition\n",
    "    print(f\"{rightColorAtWrongPosition} right color/s at the wrong position\")\n",
    "\n",
    "    if rightColorRightPosition == numberOfHoles:\n",
    "        print(\"You win!\")\n",
    "        return True"
   ]
  },
  {
   "cell_type": "code",
   "execution_count": 179,
   "metadata": {},
   "outputs": [
    {
     "name": "stdout",
     "output_type": "stream",
     "text": [
      "1 right color/s at the right position\n",
      "0 right color/s at the wrong position\n"
     ]
    }
   ],
   "source": [
    "checkGuess(sequenceGuessed, colorsSequenceInLettersAsString, colorsInLettersAsString)"
   ]
  },
  {
   "cell_type": "code",
   "execution_count": null,
   "metadata": {},
   "outputs": [
    {
     "name": "stdout",
     "output_type": "stream",
     "text": [
      "\n",
      " ROUND 1\n",
      "Make a guess. \n",
      "Use 4 letters to type your guess (example: WWOG) \n",
      "The four letters available are B-O-G-P-Y-W\n",
      "gggg\n",
      "0 right color/s at the right position\n",
      "0 right color/s at the wrong position\n",
      "\n",
      " ROUND 2\n",
      "Make a guess. \n",
      "Use 4 letters to type your guess (example: WWOG) \n",
      "The four letters available are B-O-G-P-Y-W\n",
      "gggg\n",
      "0 right color/s at the right position\n",
      "0 right color/s at the wrong position\n",
      "\n",
      " ROUND 3\n",
      "Make a guess. \n",
      "Use 4 letters to type your guess (example: WWOG) \n",
      "The four letters available are B-O-G-P-Y-W\n",
      "oooo\n",
      "1 right color/s at the right position\n",
      "0 right color/s at the wrong position\n"
     ]
    }
   ],
   "source": [
    "rounds = 1\n",
    "while rounds <= numberOfRounds:\n",
    "    sequenceGuessed = userInput(rounds)\n",
    "    playerWins = checkGuess(sequenceGuessed, colorsSequenceInLettersAsString, colorsInLettersAsString)\n",
    "    if playerWins :\n",
    "        break\n",
    "    rounds +=1"
   ]
  },
  {
   "cell_type": "code",
   "execution_count": null,
   "metadata": {},
   "outputs": [],
   "source": []
  }
 ],
 "metadata": {
  "kernelspec": {
   "display_name": "Python 3.8.2 64-bit",
   "language": "python",
   "name": "python38264bit9f8b210f4ec74f36999b8d6f71846322"
  },
  "language_info": {
   "codemirror_mode": {
    "name": "ipython",
    "version": 3
   },
   "file_extension": ".py",
   "mimetype": "text/x-python",
   "name": "python",
   "nbconvert_exporter": "python",
   "pygments_lexer": "ipython3",
   "version": "3.8.2"
  }
 },
 "nbformat": 4,
 "nbformat_minor": 4
}
